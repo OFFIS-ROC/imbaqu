{
 "cells": [
  {
   "cell_type": "markdown",
   "metadata": {},
   "source": [
    "# Tutorial\n",
    "\n",
    "Tutorial on how to use the Imbalance Quantification (Imbaqu) library.\n",
    "\n",
    "## Downloading and installing\n",
    "Download the package from GitHub, nativate to the `setup.py` and install it using pip."
   ]
  },
  {
   "cell_type": "code",
   "execution_count": 1,
   "metadata": {},
   "outputs": [],
   "source": [
    "# !pip install ."
   ]
  },
  {
   "cell_type": "code",
   "execution_count": 2,
   "metadata": {},
   "outputs": [],
   "source": [
    "import numpy as np\n",
    "import pandas as pd\n",
    "import imbaqu\n",
    "import scipy.stats\n",
    "import matplotlib.pyplot as plt\n",
    "np.random.seed(1)"
   ]
  },
  {
   "cell_type": "markdown",
   "metadata": {},
   "source": [
    "## Create Dataset\n",
    "This dataset is just created for demonstated purposes. Substitute it by your own data."
   ]
  },
  {
   "cell_type": "code",
   "execution_count": 3,
   "metadata": {},
   "outputs": [
    {
     "data": {
      "text/html": [
       "<div>\n",
       "<style scoped>\n",
       "    .dataframe tbody tr th:only-of-type {\n",
       "        vertical-align: middle;\n",
       "    }\n",
       "\n",
       "    .dataframe tbody tr th {\n",
       "        vertical-align: top;\n",
       "    }\n",
       "\n",
       "    .dataframe thead th {\n",
       "        text-align: right;\n",
       "    }\n",
       "</style>\n",
       "<table border=\"1\" class=\"dataframe\">\n",
       "  <thead>\n",
       "    <tr style=\"text-align: right;\">\n",
       "      <th></th>\n",
       "      <th>num1</th>\n",
       "      <th>num2</th>\n",
       "      <th>cat1</th>\n",
       "    </tr>\n",
       "  </thead>\n",
       "  <tbody>\n",
       "    <tr>\n",
       "      <th>0</th>\n",
       "      <td>1.624345</td>\n",
       "      <td>-0.611756</td>\n",
       "      <td>2</td>\n",
       "    </tr>\n",
       "    <tr>\n",
       "      <th>1</th>\n",
       "      <td>-0.528172</td>\n",
       "      <td>-1.072969</td>\n",
       "      <td>2</td>\n",
       "    </tr>\n",
       "    <tr>\n",
       "      <th>2</th>\n",
       "      <td>0.865408</td>\n",
       "      <td>-2.301539</td>\n",
       "      <td>1</td>\n",
       "    </tr>\n",
       "    <tr>\n",
       "      <th>3</th>\n",
       "      <td>1.744812</td>\n",
       "      <td>-0.761207</td>\n",
       "      <td>1</td>\n",
       "    </tr>\n",
       "    <tr>\n",
       "      <th>4</th>\n",
       "      <td>0.319039</td>\n",
       "      <td>-0.249370</td>\n",
       "      <td>1</td>\n",
       "    </tr>\n",
       "    <tr>\n",
       "      <th>...</th>\n",
       "      <td>...</td>\n",
       "      <td>...</td>\n",
       "      <td>...</td>\n",
       "    </tr>\n",
       "    <tr>\n",
       "      <th>995</th>\n",
       "      <td>-0.430770</td>\n",
       "      <td>0.944285</td>\n",
       "      <td>2</td>\n",
       "    </tr>\n",
       "    <tr>\n",
       "      <th>996</th>\n",
       "      <td>-0.472876</td>\n",
       "      <td>-1.407064</td>\n",
       "      <td>1</td>\n",
       "    </tr>\n",
       "    <tr>\n",
       "      <th>997</th>\n",
       "      <td>-0.447473</td>\n",
       "      <td>0.188583</td>\n",
       "      <td>2</td>\n",
       "    </tr>\n",
       "    <tr>\n",
       "      <th>998</th>\n",
       "      <td>0.560918</td>\n",
       "      <td>-0.921659</td>\n",
       "      <td>1</td>\n",
       "    </tr>\n",
       "    <tr>\n",
       "      <th>999</th>\n",
       "      <td>0.647375</td>\n",
       "      <td>1.386826</td>\n",
       "      <td>1</td>\n",
       "    </tr>\n",
       "  </tbody>\n",
       "</table>\n",
       "<p>1000 rows × 3 columns</p>\n",
       "</div>"
      ],
      "text/plain": [
       "         num1      num2 cat1\n",
       "0    1.624345 -0.611756    2\n",
       "1   -0.528172 -1.072969    2\n",
       "2    0.865408 -2.301539    1\n",
       "3    1.744812 -0.761207    1\n",
       "4    0.319039 -0.249370    1\n",
       "..        ...       ...  ...\n",
       "995 -0.430770  0.944285    2\n",
       "996 -0.472876 -1.407064    1\n",
       "997 -0.447473  0.188583    2\n",
       "998  0.560918 -0.921659    1\n",
       "999  0.647375  1.386826    1\n",
       "\n",
       "[1000 rows x 3 columns]"
      ]
     },
     "execution_count": 3,
     "metadata": {},
     "output_type": "execute_result"
    }
   ],
   "source": [
    "# create dataset with two continuous and one categorical variable.\n",
    "numerical_data = pd.DataFrame(data = np.random.normal(size = (1000,2)), columns = ['num1', 'num2'])\n",
    "categorical_data = pd.DataFrame(data = np.random.choice([1,2], size=1000), columns= ['cat1'])\n",
    "categorical_data = categorical_data.astype('category')\n",
    "data = pd.concat([numerical_data, categorical_data], axis = 1)\n",
    "data"
   ]
  },
  {
   "cell_type": "markdown",
   "metadata": {},
   "source": [
    "## Usa of the imbaqu package\n",
    "\n",
    "\n",
    "###  Example considering a uniform relevance distribution\n",
    "#### Calculate mIR and Imbalance percentage of a single variable"
   ]
  },
  {
   "cell_type": "code",
   "execution_count": 4,
   "metadata": {},
   "outputs": [
    {
     "name": "stdout",
     "output_type": "stream",
     "text": [
      "mIR of a continuous variable: 2.19\n",
      "mIR of a discrete variable: 1.07\n"
     ]
    }
   ],
   "source": [
    "# mIR continuous\n",
    "mir = imbaqu.mean_imbalance_ratio(data['num1'])\n",
    "print(f'mIR of a continuous variable: {mir:.2f}')\n",
    "\n",
    "# mIR discrete\n",
    "mir = imbaqu.mean_imbalance_ratio(data['cat1'], discrete=True)\n",
    "print(f'mIR of a discrete variable: {mir:.2f}')"
   ]
  },
  {
   "cell_type": "code",
   "execution_count": 5,
   "metadata": {},
   "outputs": [
    {
     "name": "stdout",
     "output_type": "stream",
     "text": [
      "SIP of a continuous variable: 55.80 %\n",
      "SIP under the lower bound: 6.90 %\n",
      "SIP over the upper bound: 48.90 %\n"
     ]
    }
   ],
   "source": [
    "# SIP continuous\n",
    "sip = imbaqu.imbalanced_sample_percentage(data['num1'],\n",
    "                                          ir_bound= 2)\n",
    "print(f'SIP of a continuous variable: {sip:.2f} %')\n",
    "# SIP_l continuous\n",
    "sip = imbaqu.imbalanced_sample_percentage(data['num1'],\n",
    "                                          lower_bound = 0.5)\n",
    "print(f'SIP under the lower bound: {sip:.2f} %')\n",
    "# SIP_u continuous\n",
    "sip = imbaqu.imbalanced_sample_percentage(data['num1'],\n",
    "                                          upper_bound = 2)\n",
    "print(f'SIP over the upper bound: {sip:.2f} %')"
   ]
  },
  {
   "cell_type": "markdown",
   "metadata": {},
   "source": [
    "### Calculate mIR and imbalance percentage of a multivariate dataset"
   ]
  },
  {
   "cell_type": "code",
   "execution_count": 6,
   "metadata": {},
   "outputs": [
    {
     "name": "stdout",
     "output_type": "stream",
     "text": [
      "mIR_2 of a two continuous variables: 1.91\n",
      "categorical_mask=[False, False, True]\n",
      "mIR_3 of the dataset: 1.53\n"
     ]
    }
   ],
   "source": [
    "# mIR continuous\n",
    "mir = imbaqu.mean_imbalance_ratio(data[['num1', 'num2']])\n",
    "print(f'mIR_2 of a two continuous variables: {mir:.2f}')\n",
    "\n",
    "# mir mixed\n",
    "categorical_mask = (data.dtypes == 'category').to_list()\n",
    "print(f'{categorical_mask=}')\n",
    "mir = imbaqu.mean_imbalance_ratio(data, discrete= categorical_mask)\n",
    "print(f'mIR_{len(data.columns)} of the dataset: {mir:.2f}')"
   ]
  },
  {
   "cell_type": "markdown",
   "metadata": {},
   "source": [
    "### Example considering a custom relevance distribution\n",
    "#### Calculate mIR and Imbalance percentage of a single variable"
   ]
  },
  {
   "cell_type": "code",
   "execution_count": 7,
   "metadata": {},
   "outputs": [],
   "source": [
    "def relevance_distribution_function(x):\n",
    "    \n",
    "    if abs(x) > 3:\n",
    "        return 1E-6\n",
    "    else:\n",
    "        return 1/18*x +3/18\n"
   ]
  },
  {
   "cell_type": "markdown",
   "metadata": {},
   "source": [
    "Exemplary plot of the data distribution and the relevance distribution:"
   ]
  },
  {
   "cell_type": "code",
   "execution_count": 8,
   "metadata": {},
   "outputs": [
    {
     "data": {
      "image/png": "[encoded data removed]",
      "text/plain": [
       "<Figure size 640x480 with 1 Axes>"
      ]
     },
     "metadata": {},
     "output_type": "display_data"
    }
   ],
   "source": [
    "hist = plt.hist(data['num1'], bins = 20, density= True)\n",
    "line = plt.plot(data['num1'].sort_values(), data['num1'].sort_values().apply(relevance_distribution_function))"
   ]
  },
  {
   "cell_type": "markdown",
   "metadata": {},
   "source": [
    "Calculate the mean imbalance ratio (mIR) of the univariate variable assuming a custom relevance distribution:"
   ]
  },
  {
   "cell_type": "code",
   "execution_count": 9,
   "metadata": {},
   "outputs": [
    {
     "name": "stdout",
     "output_type": "stream",
     "text": [
      "mIR of a continuous variable: 14.37\n"
     ]
    }
   ],
   "source": [
    "# mIR continuous\n",
    "mir = imbaqu.mean_imbalance_ratio(data['num1'], relevance_pdf = relevance_distribution_function)\n",
    "print(f'mIR of a continuous variable: {mir:.2f}')"
   ]
  },
  {
   "cell_type": "markdown",
   "metadata": {},
   "source": [
    "### Calculate the mIR of a multivariate dataset using custom relevance distributions\n",
    "\n",
    "Exemplary definition of a second relevance distribution. This example shows, that relevance distribution functions which do not return a float-type value have to be wrapped.\n",
    "\n",
    "E.g.: Calling `scipy.stats.gaussian_kde()` returns an numpy array of shape (1,). As relevance_pdf assumes a float, it has to be transformed."
   ]
  },
  {
   "cell_type": "code",
   "execution_count": 10,
   "metadata": {},
   "outputs": [],
   "source": [
    "class RelevancePDF:\n",
    "    def __init__(self, data: pd.Series) -> None:\n",
    "        self.kde = scipy.stats.gaussian_kde(data)\n",
    "    def __call__(self, x: float) -> float:\n",
    "        return self.kde(x)[0]"
   ]
  },
  {
   "cell_type": "code",
   "execution_count": 11,
   "metadata": {},
   "outputs": [
    {
     "name": "stdout",
     "output_type": "stream",
     "text": [
      "mIR of a continuous variable: 1.66\n"
     ]
    }
   ],
   "source": [
    "# mIR continuous\n",
    "pdf = RelevancePDF(data['num1'])\n",
    "mir = imbaqu.mean_imbalance_ratio(data[['num1', 'num2']], relevance_pdf= [pdf,relevance_distribution_function])\n",
    "print(f'mIR of a continuous variable: {mir:.2f}')"
   ]
  }
 ],
 "metadata": {
  "kernelspec": {
   "display_name": "torch_env",
   "language": "python",
   "name": "python3"
  },
  "language_info": {
   "codemirror_mode": {
    "name": "ipython",
    "version": 3
   },
   "file_extension": ".py",
   "mimetype": "text/x-python",
   "name": "python",
   "nbconvert_exporter": "python",
   "pygments_lexer": "ipython3",
   "version": "3.10.13"
  }
 },
 "nbformat": 4,
 "nbformat_minor": 2
}
